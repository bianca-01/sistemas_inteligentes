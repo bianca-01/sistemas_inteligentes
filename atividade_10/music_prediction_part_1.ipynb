{
 "cells": [
  {
   "cell_type": "markdown",
   "metadata": {},
   "source": [
    "# Treinar uma RNN para predizer uma melodia"
   ]
  },
  {
   "cell_type": "code",
   "execution_count": null,
   "metadata": {},
   "outputs": [],
   "source": [
    "!pip install mitdeeplearning music21"
   ]
  },
  {
   "cell_type": "code",
   "execution_count": 47,
   "metadata": {},
   "outputs": [],
   "source": [
    "import mitdeeplearning.lab1 as mit\n",
    "import os\n",
    "from IPython import display as ipythondisplay\n",
    "import numpy as np\n",
    "from tensorflow import keras\n",
    "import tensorflow as tf \n",
    "from keras.models import Sequential\n",
    "from keras.layers import Dense, LSTM\n",
    "import matplotlib.pyplot as plt\n",
    "import regex as re\n",
    "import music21\n",
    "import pickle\n",
    "from random import randrange\n",
    "from tqdm.notebook import tqdm_notebook"
   ]
  },
  {
   "cell_type": "markdown",
   "metadata": {},
   "source": [
    "---\n",
    "<h1> Criar uma etapa de pré-processamento onde os cabeçalhos do arquivos .abc serão desprezados</h1>\n",
    "\n",
    "---"
   ]
  },
  {
   "cell_type": "markdown",
   "metadata": {},
   "source": [
    "## 1 Carregando o dataset"
   ]
  },
  {
   "cell_type": "code",
   "execution_count": 2,
   "metadata": {},
   "outputs": [
    {
     "name": "stdout",
     "output_type": "stream",
     "text": [
      "Found 817 songs in text\n"
     ]
    }
   ],
   "source": [
    "songs = mit.load_training_data()"
   ]
  },
  {
   "cell_type": "code",
   "execution_count": 3,
   "metadata": {},
   "outputs": [
    {
     "data": {
      "text/plain": [
       "\"X:1\\nT:Alexander's\\nZ: id:dc-hornpipe-1\\nM:C|\\nL:1/8\\nK:D Major\\n(3ABc|dAFA DFAd|fdcd FAdf|gfge fefd|(3efe (3dcB A2 (3ABc|!\\ndAFA DFAd|fdcd FAdf|gfge fefd|(3efe dc d2:|!\\nAG|FAdA FAdA|GBdB GBdB|Acec Acec|dfaf gecA|!\\nFAdA FAdA|GBdB GBdB|Aceg fefd|(3efe dc d2:|!\""
      ]
     },
     "execution_count": 3,
     "metadata": {},
     "output_type": "execute_result"
    }
   ],
   "source": [
    "songs[0]"
   ]
  },
  {
   "cell_type": "code",
   "execution_count": 4,
   "metadata": {},
   "outputs": [],
   "source": [
    "def read_audio(audio, name):\n",
    "    mit.save_song_to_abc(audio, name)\n",
    "    \n",
    "    abc = music21.converter.parse(name+'.abc')\n",
    "    \n",
    "    abc.write('midi', fp=name+'.midi')\n",
    "    \n",
    "    midi = music21.converter.parse(name+'.midi')\n",
    "    \n",
    "    midi.show('midi')"
   ]
  },
  {
   "cell_type": "code",
   "execution_count": 5,
   "metadata": {},
   "outputs": [
    {
     "data": {
      "text/html": [
       "\n",
       "                <div id='midiPlayerDiv13841'></div>\n",
       "                <link rel=\"stylesheet\" href=\"//cuthbertLab.github.io/music21j/css/m21.css\"\n",
       "                    type=\"text/css\" />\n",
       "                \n",
       "                <script>\n",
       "                require.config({\n",
       "                    paths: {'music21': '//cuthbertLab.github.io/music21j/src/music21'}\n",
       "                });\n",
       "                require(['music21'], function() {\n",
       "                               mp = new music21.miditools.MidiPlayer();\n",
       "                               mp.addPlayer('#midiPlayerDiv13841');\n",
       "                               mp.base64Load('data:audio/midi;base64,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');\n",
       "                        });\n",
       "                </script>"
      ],
      "text/plain": [
       "<IPython.core.display.HTML object>"
      ]
     },
     "metadata": {},
     "output_type": "display_data"
    }
   ],
   "source": [
    "read_audio(songs[0],'test')"
   ]
  },
  {
   "cell_type": "markdown",
   "metadata": {},
   "source": [
    "## 2 Pré processamento"
   ]
  },
  {
   "cell_type": "code",
   "execution_count": 6,
   "metadata": {},
   "outputs": [
    {
     "name": "stdout",
     "output_type": "stream",
     "text": [
      "X:1\n",
      "T:Alexander's\n",
      "Z: id:dc-hornpipe-1\n",
      "M:C|\n",
      "L:1/8\n",
      "K:D Major\n",
      "(3ABc|dAFA DFAd|fdcd FAdf|gfge fefd|(3efe (3dcB A2 (3ABc|!\n",
      "dAFA DFAd|fdcd FAdf|gfge fefd|(3efe dc d2:|!\n",
      "AG|FAdA FAdA|GBdB GBdB|Acec Acec|dfaf gecA|!\n",
      "FAdA FAdA|GBdB GBdB|Aceg fefd|(3efe dc d2:|!\n",
      "\n",
      "\n",
      "\n",
      "X:2\n",
      "T:An Buachaill Dreoite\n",
      "Z: id:dc-hornpipe-2\n",
      "M:C|\n",
      "L:1/8\n",
      "K:G Major\n",
      "GF|DGGB d2GB|d2GF Gc (3AGF|DGGB d2GB|dBcA F2GF|!\n",
      "DGGB d2GF|DGGF G2Ge|fgaf gbag|fdcA G2:|!\n",
      "GA|B2BG c2cA|d2GF G2GA|B2BG c2cA|d2DE F2GA|!\n",
      "B2BG c2cA|d^cde f2 (3def|g2gf gbag|fdcA G2:|!\n",
      "\n",
      "\n",
      "\n",
      "X:3\n",
      "T:Belfast\n",
      "Z: id:dc-hornpipe-3\n",
      "M:C|\n",
      "L:1/8\n",
      "K:D Major\n",
      "ag|(3faf df AdFA|DFAd f2ef|gbec dfAF|GABG E2ag|!\n",
      "(3faf df AdFA|DFAd f2ef|gbed cABc|d2f2 d2:|!\n",
      "(3DEF|GFGA Bcde|fgfe dcdB|A2f2 fef2|G2e2 ede2|!\n",
      "GFGA Bcde|fgfe dcdB|Afed cABc|d2f2 d2:|!\n",
      "ag|(3fgf (3efe (3ded (3cdc|(3BcB (3ABA G2ba|(3gag (3fgf (3efe (3ded|(3cdc (3BcB A2ag|!\n",
      "(3fgf (3efe (3ded (3cdc|(3BcB (3ABA (3GAG (3FGF|Eged cABc|d2f2 d2:|!\n",
      "\n",
      "\n",
      "\n",
      "X:4\n",
      "T:Blackbird\n",
      "Z: id:dc-hornpipe-4\n",
      "M:C|\n",
      "L:1/8\n",
      "K:D Mixolydian\n",
      "AG|F2FA GFD2|de (3fed d^cAF|G2GF GFDE|FdcA G2AG|!\n",
      "F2FA GFD2|de (3fed d^cAG|AdcA GcAG|F2D2 D2:|!\n",
      "fg|agfa gfeg|fd e^c d=cA2|agfa gfde|fdgf e2 fg|!\n",
      "a2ge f3e|d^cde fdAG|AdcA GcAG|F2D2 D2:|!\n",
      "\n",
      "\n",
      "\n",
      "X:5\n",
      "T:Bobby Casey's\n",
      "Z: id:dc-hornpipe-5\n",
      "M:C|\n",
      "L:1/8\n",
      "K:A Dorian\n",
      "ed|cAAB cBcd|eaaf gedB|c2Ac B2Bc|d2de dBGB|!\n",
      "AGAB cBcd|eaaf gedB|cAAc dBGB|BAAG A2:|!\n",
      "cd|eaab aged|eaab aged|egga gedB|egga gedB|!\n",
      "AGAB cBcd|eaaf gedB|cAAc dBGB|BAAG A2:|!\n",
      "\n",
      "\n",
      "\n"
     ]
    },
    {
     "data": {
      "text/plain": [
       "[None, None, None, None, None]"
      ]
     },
     "execution_count": 6,
     "metadata": {},
     "output_type": "execute_result"
    }
   ],
   "source": [
    "[print(songs[i]+'\\n\\n\\n') for i in range(5)]"
   ]
  },
  {
   "cell_type": "code",
   "execution_count": 7,
   "metadata": {},
   "outputs": [],
   "source": [
    "def removerHeader(song):\n",
    "    abc = song.split('\\n')\n",
    "    \n",
    "    abc2 = abc[6:] #remover as 6 linhas do header\n",
    "    \n",
    "    abc3 = '\\n'.join(abc2)\n",
    "    \n",
    "    return abc3"
   ]
  },
  {
   "cell_type": "code",
   "execution_count": 8,
   "metadata": {},
   "outputs": [],
   "source": [
    "def run(musics,array):  \n",
    "    for music  in tqdm_notebook(musics):\n",
    "        newMusic = removerHeader(music)\n",
    "        array.append(newMusic)"
   ]
  },
  {
   "cell_type": "code",
   "execution_count": 9,
   "metadata": {},
   "outputs": [
    {
     "name": "stdout",
     "output_type": "stream",
     "text": [
      "X:13\n",
      "T:Cronin's\n",
      "Z: id:dc-hornpipe-12\n",
      "M:C|\n",
      "L:1/8\n",
      "K:G Major\n",
      "BA|GABc d^cdf|gage dega|bage dBGB|BAAG AcBA|!\n",
      "GABc d^cdf|gage dega|bage dBAB|G2GF G2:|!\n",
      "fg|add^c d2ga|bee^d e2ga|bgaf gedB|BAAG AcBA|!\n",
      "GABc d^cdf|gage dega|bage dBAB|G2GF G2:|!\n"
     ]
    }
   ],
   "source": [
    "print(songs[12])"
   ]
  },
  {
   "cell_type": "code",
   "execution_count": 10,
   "metadata": {},
   "outputs": [
    {
     "data": {
      "text/plain": [
       "'BA|GABc d^cdf|gage dega|bage dBGB|BAAG AcBA|!\\nGABc d^cdf|gage dega|bage dBAB|G2GF G2:|!\\nfg|add^c d2ga|bee^d e2ga|bgaf gedB|BAAG AcBA|!\\nGABc d^cdf|gage dega|bage dBAB|G2GF G2:|!'"
      ]
     },
     "execution_count": 10,
     "metadata": {},
     "output_type": "execute_result"
    }
   ],
   "source": [
    "removerHeader(songs[12])"
   ]
  },
  {
   "cell_type": "code",
   "execution_count": 11,
   "metadata": {},
   "outputs": [],
   "source": [
    "songs_processed = []"
   ]
  },
  {
   "cell_type": "code",
   "execution_count": 12,
   "metadata": {},
   "outputs": [
    {
     "data": {
      "application/vnd.jupyter.widget-view+json": {
       "model_id": "4425378d96dd41dbb335ed1fb227136d",
       "version_major": 2,
       "version_minor": 0
      },
      "text/plain": [
       "  0%|          | 0/817 [00:00<?, ?it/s]"
      ]
     },
     "metadata": {},
     "output_type": "display_data"
    }
   ],
   "source": [
    "run(songs, songs_processed)"
   ]
  },
  {
   "cell_type": "markdown",
   "metadata": {},
   "source": [
    "## 3 Criando o vocabulário e dicionário"
   ]
  },
  {
   "cell_type": "code",
   "execution_count": 117,
   "metadata": {},
   "outputs": [],
   "source": [
    "songs_joined = \"\\n\\n\".join(songs_processed) \n",
    "def build_vocab(songs):\n",
    "    vocab = sorted(set(songs_joined))\n",
    "    return vocab"
   ]
  },
  {
   "cell_type": "code",
   "execution_count": 14,
   "metadata": {},
   "outputs": [
    {
     "name": "stdout",
     "output_type": "stream",
     "text": [
      "149405\n"
     ]
    }
   ],
   "source": [
    "print(len(songs_joined))"
   ]
  },
  {
   "cell_type": "code",
   "execution_count": 15,
   "metadata": {},
   "outputs": [],
   "source": [
    "vocab = build_vocab(songs_processed)"
   ]
  },
  {
   "cell_type": "code",
   "execution_count": 16,
   "metadata": {},
   "outputs": [
    {
     "name": "stdout",
     "output_type": "stream",
     "text": [
      "['\\n', ' ', '!', '\"', \"'\", '(', ')', ',', '-', '/', '1', '2', '3', '4', '6', '8', '9', ':', '<', '=', '>', 'A', 'B', 'C', 'D', 'E', 'F', 'G', 'K', 'M', 'R', 'V', '[', ']', '^', '_', 'a', 'b', 'c', 'd', 'e', 'f', 'g', 'i', 'j', 'l', 'm', 'n', 'o', 'p', 'r', 's', 't', 'u', 'x', 'y', 'z', '|']\n"
     ]
    }
   ],
   "source": [
    "print(vocab)"
   ]
  },
  {
   "cell_type": "code",
   "execution_count": 17,
   "metadata": {},
   "outputs": [],
   "source": [
    "def build_dictionary(vocab):\n",
    "    idx2char = []\n",
    "    for c in vocab :\n",
    "        if c not in idx2char : idx2char.append(c)\n",
    "    char2idx = {w: i for i, w in enumerate(idx2char)} \n",
    "    return idx2char, char2idx"
   ]
  },
  {
   "cell_type": "code",
   "execution_count": 18,
   "metadata": {},
   "outputs": [],
   "source": [
    "idx2char, char2idx = build_dictionary(vocab)"
   ]
  },
  {
   "cell_type": "code",
   "execution_count": 141,
   "metadata": {},
   "outputs": [
    {
     "data": {
      "text/plain": [
       "['\\n',\n",
       " ' ',\n",
       " '!',\n",
       " '\"',\n",
       " \"'\",\n",
       " '(',\n",
       " ')',\n",
       " ',',\n",
       " '-',\n",
       " '/',\n",
       " '1',\n",
       " '2',\n",
       " '3',\n",
       " '4',\n",
       " '6',\n",
       " '8',\n",
       " '9',\n",
       " ':',\n",
       " '<',\n",
       " '=',\n",
       " '>',\n",
       " 'A',\n",
       " 'B',\n",
       " 'C',\n",
       " 'D',\n",
       " 'E',\n",
       " 'F',\n",
       " 'G',\n",
       " 'K',\n",
       " 'M',\n",
       " 'R',\n",
       " 'V',\n",
       " '[',\n",
       " ']',\n",
       " '^',\n",
       " '_',\n",
       " 'a',\n",
       " 'b',\n",
       " 'c',\n",
       " 'd',\n",
       " 'e',\n",
       " 'f',\n",
       " 'g',\n",
       " 'i',\n",
       " 'j',\n",
       " 'l',\n",
       " 'm',\n",
       " 'n',\n",
       " 'o',\n",
       " 'p',\n",
       " 'r',\n",
       " 's',\n",
       " 't',\n",
       " 'u',\n",
       " 'x',\n",
       " 'y',\n",
       " 'z',\n",
       " '|']"
      ]
     },
     "execution_count": 141,
     "metadata": {},
     "output_type": "execute_result"
    }
   ],
   "source": [
    "idx2char"
   ]
  },
  {
   "cell_type": "code",
   "execution_count": 140,
   "metadata": {},
   "outputs": [
    {
     "data": {
      "text/plain": [
       "{'\\n': 0,\n",
       " ' ': 1,\n",
       " '!': 2,\n",
       " '\"': 3,\n",
       " \"'\": 4,\n",
       " '(': 5,\n",
       " ')': 6,\n",
       " ',': 7,\n",
       " '-': 8,\n",
       " '/': 9,\n",
       " '1': 10,\n",
       " '2': 11,\n",
       " '3': 12,\n",
       " '4': 13,\n",
       " '6': 14,\n",
       " '8': 15,\n",
       " '9': 16,\n",
       " ':': 17,\n",
       " '<': 18,\n",
       " '=': 19,\n",
       " '>': 20,\n",
       " 'A': 21,\n",
       " 'B': 22,\n",
       " 'C': 23,\n",
       " 'D': 24,\n",
       " 'E': 25,\n",
       " 'F': 26,\n",
       " 'G': 27,\n",
       " 'K': 28,\n",
       " 'M': 29,\n",
       " 'R': 30,\n",
       " 'V': 31,\n",
       " '[': 32,\n",
       " ']': 33,\n",
       " '^': 34,\n",
       " '_': 35,\n",
       " 'a': 36,\n",
       " 'b': 37,\n",
       " 'c': 38,\n",
       " 'd': 39,\n",
       " 'e': 40,\n",
       " 'f': 41,\n",
       " 'g': 42,\n",
       " 'i': 43,\n",
       " 'j': 44,\n",
       " 'l': 45,\n",
       " 'm': 46,\n",
       " 'n': 47,\n",
       " 'o': 48,\n",
       " 'p': 49,\n",
       " 'r': 50,\n",
       " 's': 51,\n",
       " 't': 52,\n",
       " 'u': 53,\n",
       " 'x': 54,\n",
       " 'y': 55,\n",
       " 'z': 56,\n",
       " '|': 57}"
      ]
     },
     "execution_count": 140,
     "metadata": {},
     "output_type": "execute_result"
    }
   ],
   "source": [
    "char2idx"
   ]
  },
  {
   "cell_type": "code",
   "execution_count": 19,
   "metadata": {},
   "outputs": [],
   "source": [
    "pickle.dump(idx2char, open('idx2char.pickle','wb'))\n",
    "pickle.dump(char2idx, open('char2idx.pickle','wb'))"
   ]
  },
  {
   "cell_type": "code",
   "execution_count": 118,
   "metadata": {},
   "outputs": [],
   "source": [
    "def vectorize_string(songs_joined):\n",
    "    vectorized = [char2idx[c] for c in songs_joined] \n",
    "    vectorized = np.array(vectorized, dtype='i')     \n",
    "    return vectorized"
   ]
  },
  {
   "cell_type": "code",
   "execution_count": 119,
   "metadata": {},
   "outputs": [],
   "source": [
    "vectorized_songs = vectorize_string(songs_joined)"
   ]
  },
  {
   "cell_type": "code",
   "execution_count": 83,
   "metadata": {},
   "outputs": [
    {
     "data": {
      "text/plain": [
       "149405"
      ]
     },
     "execution_count": 83,
     "metadata": {},
     "output_type": "execute_result"
    }
   ],
   "source": [
    "len(vectorized_songs)"
   ]
  },
  {
   "cell_type": "code",
   "execution_count": 22,
   "metadata": {},
   "outputs": [
    {
     "name": "stdout",
     "output_type": "stream",
     "text": [
      "'(3ABc|dAFA DFAd' [ 5 12 21 22 38 57 39 21 26 21  1 24 26 21 39]\n"
     ]
    }
   ],
   "source": [
    "print(repr(songs_joined[:15]), vectorized_songs[:15])"
   ]
  },
  {
   "cell_type": "code",
   "execution_count": 23,
   "metadata": {},
   "outputs": [
    {
     "data": {
      "text/plain": [
       "'e'"
      ]
     },
     "execution_count": 23,
     "metadata": {},
     "output_type": "execute_result"
    }
   ],
   "source": [
    "idx2char[40]"
   ]
  },
  {
   "cell_type": "markdown",
   "metadata": {},
   "source": [
    "## 4 Divisão Treino/Validação"
   ]
  },
  {
   "cell_type": "code",
   "execution_count": 24,
   "metadata": {},
   "outputs": [],
   "source": [
    "## texto Hello e tamanho da sequência = 4: in:Hell e out:ello\n",
    "def get_batch(vectorized_songs, seq_length, batch_size):\n",
    "    \n",
    "    # captura o tamanho do dataset vetorizado: 200679\n",
    "    n = vectorized_songs.shape[0] - 1\n",
    "\n",
    "    # escolhe aleatoriamente os índices iniciais da sentenças\n",
    "    idx = np.random.choice(n-seq_length, batch_size)\n",
    "\n",
    "    input_batch = [[vectorized_songs[i:i+seq_length] for i in idx]]\n",
    "    output_batch = [[vectorized_songs[i+1: i+1+seq_length] for i in idx]]\n",
    "\n",
    "    x_batch = np.reshape(input_batch, [batch_size, seq_length])\n",
    "    y_batch = np.reshape(output_batch, [batch_size, seq_length])\n",
    "        \n",
    "    return x_batch, y_batch"
   ]
  },
  {
   "cell_type": "code",
   "execution_count": 25,
   "metadata": {},
   "outputs": [],
   "source": [
    "batch_size = 4000  \n",
    "seq_length = 50  \n",
    "\n",
    "x_batch, y_batch = get_batch(vectorized_songs, seq_length=seq_length, batch_size=batch_size)\n",
    "x_train, y_train = x_batch[:3600], y_batch[:3600]\n",
    "x_valid, y_valid = x_batch[3600:-1], y_batch[3600:-1]"
   ]
  },
  {
   "cell_type": "code",
   "execution_count": 26,
   "metadata": {},
   "outputs": [
    {
     "name": "stdout",
     "output_type": "stream",
     "text": [
      "(3600, 50) (3600, 50) (399, 50) (399, 50)\n"
     ]
    }
   ],
   "source": [
    "print(x_train.shape,y_train.shape,x_valid.shape,y_valid.shape)"
   ]
  },
  {
   "cell_type": "markdown",
   "metadata": {},
   "source": [
    "## 5 Treinando a RNN "
   ]
  },
  {
   "cell_type": "code",
   "execution_count": 28,
   "metadata": {},
   "outputs": [],
   "source": [
    "def create_model(vocab_size, embedding_dim, rnn_units):\n",
    "    # definindo a arquitetura do modelo    \n",
    "    model = keras.models.Sequential([\n",
    "        keras.layers.Embedding(vocab_size, embedding_dim), \n",
    "        keras.layers.LSTM(rnn_units, recurrent_initializer='glorot_uniform', recurrent_activation='sigmoid', return_sequences=True),\n",
    "        keras.layers.Dense(units=vocab_size,activation='softmax')\n",
    "    ])\n",
    "\n",
    "    return model"
   ]
  },
  {
   "cell_type": "code",
   "execution_count": 29,
   "metadata": {},
   "outputs": [],
   "source": [
    "def train_model(model, x_train, y_train, x_valid, y_valid):\n",
    "        \n",
    "    # Compilando e treinando o modelo\n",
    "    model.compile(loss=tf.keras.losses.sparse_categorical_crossentropy,\n",
    "              optimizer=tf.keras.optimizers.Adam(learning_rate=5e-3),metrics=['accuracy']\n",
    "    )\n",
    "    \n",
    "    checkpoint_filepath = './lstm_best_model'\n",
    "    model_checkpoint_callback = tf.keras.callbacks.ModelCheckpoint(\n",
    "        filepath=checkpoint_filepath,\n",
    "        save_weights_only=True,\n",
    "        monitor='val_loss',\n",
    "        mode='min',\n",
    "        save_best_only=True)\n",
    "    \n",
    "    history = model.fit(x_train, y_train, epochs=20, validation_data=(x_valid, y_valid), callbacks=[model_checkpoint_callback])\n",
    "    \n",
    "    return model, history"
   ]
  },
  {
   "cell_type": "code",
   "execution_count": 34,
   "metadata": {},
   "outputs": [],
   "source": [
    "vocab_size = len(vocab)\n",
    "embedding_dim = 256 \n",
    "rnn_units = 1024 \n",
    "model = create_model(vocab_size, embedding_dim, rnn_units)"
   ]
  },
  {
   "cell_type": "code",
   "execution_count": 328,
   "metadata": {},
   "outputs": [
    {
     "name": "stdout",
     "output_type": "stream",
     "text": [
      "Epoch 1/20\n",
      "113/113 [==============================] - 45s 387ms/step - loss: 2.3499 - accuracy: 0.2616 - val_loss: 1.7258 - val_accuracy: 0.4258\n",
      "Epoch 2/20\n",
      "113/113 [==============================] - 44s 386ms/step - loss: 1.5677 - accuracy: 0.4698 - val_loss: 1.4651 - val_accuracy: 0.5053\n",
      "Epoch 3/20\n",
      "113/113 [==============================] - 44s 388ms/step - loss: 1.3868 - accuracy: 0.5284 - val_loss: 1.3359 - val_accuracy: 0.5477\n",
      "Epoch 4/20\n",
      "113/113 [==============================] - 44s 388ms/step - loss: 1.2656 - accuracy: 0.5707 - val_loss: 1.2556 - val_accuracy: 0.5717\n",
      "Epoch 5/20\n",
      "113/113 [==============================] - 44s 388ms/step - loss: 1.1803 - accuracy: 0.5972 - val_loss: 1.1994 - val_accuracy: 0.5911\n",
      "Epoch 6/20\n",
      "113/113 [==============================] - 44s 389ms/step - loss: 1.1007 - accuracy: 0.6249 - val_loss: 1.1409 - val_accuracy: 0.6129\n",
      "Epoch 7/20\n",
      "113/113 [==============================] - 44s 389ms/step - loss: 1.0229 - accuracy: 0.6515 - val_loss: 1.1028 - val_accuracy: 0.6293\n",
      "Epoch 8/20\n",
      "113/113 [==============================] - 44s 389ms/step - loss: 0.9564 - accuracy: 0.6752 - val_loss: 1.0602 - val_accuracy: 0.6442\n",
      "Epoch 9/20\n",
      "113/113 [==============================] - 44s 389ms/step - loss: 0.8824 - accuracy: 0.7009 - val_loss: 1.0283 - val_accuracy: 0.6593\n",
      "Epoch 10/20\n",
      "113/113 [==============================] - 44s 389ms/step - loss: 0.8127 - accuracy: 0.7257 - val_loss: 0.9956 - val_accuracy: 0.6719\n",
      "Epoch 11/20\n",
      "113/113 [==============================] - 44s 390ms/step - loss: 0.7431 - accuracy: 0.7502 - val_loss: 0.9618 - val_accuracy: 0.6849\n",
      "Epoch 12/20\n",
      "113/113 [==============================] - 44s 390ms/step - loss: 0.6782 - accuracy: 0.7719 - val_loss: 0.9422 - val_accuracy: 0.7002\n",
      "Epoch 13/20\n",
      "113/113 [==============================] - 44s 390ms/step - loss: 0.6194 - accuracy: 0.7930 - val_loss: 0.9291 - val_accuracy: 0.7045\n",
      "Epoch 14/20\n",
      "113/113 [==============================] - 44s 390ms/step - loss: 0.5610 - accuracy: 0.8140 - val_loss: 0.9162 - val_accuracy: 0.7134\n",
      "Epoch 15/20\n",
      "113/113 [==============================] - 44s 390ms/step - loss: 0.5112 - accuracy: 0.8306 - val_loss: 0.9075 - val_accuracy: 0.7226\n",
      "Epoch 16/20\n",
      "113/113 [==============================] - 44s 391ms/step - loss: 0.4620 - accuracy: 0.8484 - val_loss: 0.8929 - val_accuracy: 0.7310\n",
      "Epoch 17/20\n",
      "113/113 [==============================] - 44s 390ms/step - loss: 0.4209 - accuracy: 0.8616 - val_loss: 0.8852 - val_accuracy: 0.7398\n",
      "Epoch 18/20\n",
      "113/113 [==============================] - 44s 389ms/step - loss: 0.3837 - accuracy: 0.8741 - val_loss: 0.9059 - val_accuracy: 0.7415\n",
      "Epoch 19/20\n",
      "113/113 [==============================] - 44s 389ms/step - loss: 0.3481 - accuracy: 0.8863 - val_loss: 0.8908 - val_accuracy: 0.7475\n",
      "Epoch 20/20\n",
      "113/113 [==============================] - 44s 389ms/step - loss: 0.3184 - accuracy: 0.8968 - val_loss: 0.9112 - val_accuracy: 0.7483\n"
     ]
    },
    {
     "data": {
      "image/png": "[encoded data removed]",
      "text/plain": [
       "<Figure size 432x288 with 1 Axes>"
      ]
     },
     "metadata": {
      "image/png": {
       "height": 260,
       "width": 378
      },
      "needs_background": "light"
     },
     "output_type": "display_data"
    }
   ],
   "source": [
    "model, history = train_model(model, x_train,y_train,x_valid,y_valid)\n",
    "\n",
    "# plotando as curvas de aprendizado\n",
    "plt.plot(history.history['loss'], label='train')\n",
    "plt.plot(history.history['val_loss'], label='val')\n",
    "plt.title('Predicting time series', pad=-80)\n",
    "plt.legend()\n",
    "plt.show()"
   ]
  },
  {
   "cell_type": "markdown",
   "metadata": {},
   "source": [
    "## 6 Predizendo a música"
   ]
  },
  {
   "cell_type": "code",
   "execution_count": 35,
   "metadata": {},
   "outputs": [
    {
     "data": {
      "text/plain": [
       "<tensorflow.python.training.tracking.util.CheckpointLoadStatus at 0x7fdfcdc9f6d0>"
      ]
     },
     "execution_count": 35,
     "metadata": {},
     "output_type": "execute_result"
    }
   ],
   "source": [
    "model.load_weights('lstm_best_model')"
   ]
  },
  {
   "cell_type": "code",
   "execution_count": 37,
   "metadata": {},
   "outputs": [
    {
     "name": "stdout",
     "output_type": "stream",
     "text": [
      "Model: \"sequential_1\"\n",
      "_________________________________________________________________\n",
      " Layer (type)                Output Shape              Param #   \n",
      "=================================================================\n",
      " embedding_1 (Embedding)     (None, None, 256)         14848     \n",
      "                                                                 \n",
      " lstm_1 (LSTM)               (None, None, 1024)        5246976   \n",
      "                                                                 \n",
      " dense_1 (Dense)             (None, None, 58)          59450     \n",
      "                                                                 \n",
      "=================================================================\n",
      "Total params: 5,321,274\n",
      "Trainable params: 5,321,274\n",
      "Non-trainable params: 0\n",
      "_________________________________________________________________\n"
     ]
    }
   ],
   "source": [
    "model.summary()"
   ]
  },
  {
   "cell_type": "code",
   "execution_count": 42,
   "metadata": {},
   "outputs": [],
   "source": [
    "header = \"X:1\\nT:Alexander's\\nZ: id:dc-hornpipe-1\\nM:C|\\nL:1/8\\nK:D Major\\n\"\n",
    "start_string = 'BA|GABc'\n",
    "def generate_text(model, start_string, generation_length=170):\n",
    "    input_eval = [char2idx[s] for s in start_string]\n",
    "    input_eval = tf.expand_dims(input_eval, 0)\n",
    "    text_generated = []\n",
    "\n",
    "    for i in range(generation_length):\n",
    "        predictions = model(input_eval)\n",
    "        sampled_indices = tf.random.categorical(predictions[0], num_samples=1)[-1,0].numpy()\n",
    "            \n",
    "        #Passa a previsão junto com o estado anterior como as próximas entradas do modelo\n",
    "        input_eval = tf.expand_dims([sampled_indices], 0)\n",
    "        text_generated.append(idx2char[sampled_indices])\n",
    "        \n",
    "    return (header+start_string + ''.join(text_generated))"
   ]
  },
  {
   "cell_type": "code",
   "execution_count": 43,
   "metadata": {},
   "outputs": [],
   "source": [
    "generated_text = generate_text(model, start_string=start_string, generation_length=170)"
   ]
  },
  {
   "cell_type": "code",
   "execution_count": 44,
   "metadata": {},
   "outputs": [
    {
     "name": "stdout",
     "output_type": "stream",
     "text": [
      "X:1\n",
      "T:Alexander's\n",
      "Z: id:dc-hornpipe-1\n",
      "M:C|\n",
      "L:1/8\n",
      "K:D Major\n",
      "BA|GABcaFf[gmEGo|iV82c ally[8Mi|MsR[x)i^Rygl_4aM]8\":Cy3g,de\"eC3r<us29ml_^F4C//1V<8K !a\n",
      "<Am^c/x-rA2geDVEBCVMBB_BM(o]DDm=:e=g\n",
      "x-iDC]6ACa^e ,:\n",
      "D4aR)|pizyxr3ueGG6A>d|p'i88-D<F!_\n",
      "o61\n"
     ]
    }
   ],
   "source": [
    "print(generated_text)"
   ]
  },
  {
   "cell_type": "markdown",
   "metadata": {},
   "source": [
    "---\n",
    "<h1> - Variar os parâmetros e arquitetura da rede e comparar as acurácias de treinamento e validação </h1>\n",
    "\n",
    "---"
   ]
  },
  {
   "cell_type": "markdown",
   "metadata": {},
   "source": [
    "- Aumentar as amostras de treinamento;\n",
    "- Variar o tamanho da sequência: [25 -150] \n",
    "- Variar as épocas de treinamento\n",
    "- Variar o número de neurônios da camada LSTM: [1024-2048]\n",
    "- Aumentar o número de camadas LSTM.\n",
    "- Add camada de dropout"
   ]
  },
  {
   "cell_type": "markdown",
   "metadata": {},
   "source": [
    "## 1 Aumento do conjunto de treino"
   ]
  },
  {
   "cell_type": "code",
   "execution_count": 94,
   "metadata": {},
   "outputs": [],
   "source": [
    "header = \"\"\n",
    "start_string_list = ['BA|GABc','GF|DGGB', 'ag|(3faf', 'ed|cAAB']\n",
    "songs_augmentad = []"
   ]
  },
  {
   "cell_type": "code",
   "execution_count": 95,
   "metadata": {},
   "outputs": [
    {
     "data": {
      "text/plain": [
       "'ed|cAAB'"
      ]
     },
     "execution_count": 95,
     "metadata": {},
     "output_type": "execute_result"
    }
   ],
   "source": [
    "start_string_list[randrange(1,5)]"
   ]
  },
  {
   "cell_type": "code",
   "execution_count": 96,
   "metadata": {},
   "outputs": [],
   "source": [
    "def augmentation(header, startList, array):\n",
    "    start = startList[randrange(1,5)]\n",
    "    for i in tqdm_notebook(range(500)):\n",
    "        amostra = generate_text(model, start)\n",
    "        array.append(amostra)"
   ]
  },
  {
   "cell_type": "code",
   "execution_count": 97,
   "metadata": {},
   "outputs": [
    {
     "data": {
      "application/vnd.jupyter.widget-view+json": {
       "model_id": "15812ae1c2c644c297d568fc0c266622",
       "version_major": 2,
       "version_minor": 0
      },
      "text/plain": [
       "  0%|          | 0/500 [00:00<?, ?it/s]"
      ]
     },
     "metadata": {},
     "output_type": "display_data"
    }
   ],
   "source": [
    "augmentation(header, start_string_list, songs_augmentad)"
   ]
  },
  {
   "cell_type": "code",
   "execution_count": 120,
   "metadata": {},
   "outputs": [
    {
     "data": {
      "text/plain": [
       "500"
      ]
     },
     "execution_count": 120,
     "metadata": {},
     "output_type": "execute_result"
    }
   ],
   "source": [
    "len(songs_augmentad)"
   ]
  },
  {
   "cell_type": "code",
   "execution_count": 99,
   "metadata": {},
   "outputs": [],
   "source": [
    "songs_joined_aug = \"\\n\\n\".join(songs_augmentad)"
   ]
  },
  {
   "cell_type": "code",
   "execution_count": 100,
   "metadata": {},
   "outputs": [],
   "source": [
    "vectorized_songs_aug = vectorize_string(songs_joined_aug)"
   ]
  },
  {
   "cell_type": "code",
   "execution_count": 101,
   "metadata": {},
   "outputs": [],
   "source": [
    "def get_batch(vectorized_songs, seq_length, batch_size):\n",
    "    \n",
    "    # captura o tamanho do dataset vetorizado: 200679\n",
    "    n = vectorized_songs.shape[0] - 1\n",
    "\n",
    "    # escolhe aleatoriamente os índices iniciais da sentenças\n",
    "    idx = np.random.choice(n-seq_length, batch_size)\n",
    "\n",
    "    input_batch = [[vectorized_songs[i:i+seq_length] for i in idx]]\n",
    "    output_batch = [[vectorized_songs[i+1: i+1+seq_length] for i in idx]]\n",
    "\n",
    "    x_batch = np.reshape(input_batch, [batch_size, seq_length])\n",
    "    y_batch = np.reshape(output_batch, [batch_size, seq_length])\n",
    "        \n",
    "    return x_batch, y_batch"
   ]
  },
  {
   "cell_type": "code",
   "execution_count": 130,
   "metadata": {},
   "outputs": [],
   "source": [
    "batch_size = 4000\n",
    "seq_length = 65  "
   ]
  },
  {
   "cell_type": "code",
   "execution_count": 131,
   "metadata": {},
   "outputs": [],
   "source": [
    "x_batch_aug, y_batch_aug = get_batch(vectorized_songs_aug, seq_length=seq_length, batch_size=batch_size)"
   ]
  },
  {
   "cell_type": "code",
   "execution_count": 132,
   "metadata": {},
   "outputs": [],
   "source": [
    "x_batch, y_batch = get_batch(vectorized_songs, seq_length=seq_length, batch_size=batch_size)\n",
    "x_train, y_train =np.concatenate((x_batch[:3600],x_batch_aug), axis=0), np.concatenate((y_batch[:3600],y_batch_aug), axis=0)\n",
    "x_valid, y_valid = x_batch[3600:-1], y_batch[3600:-1]"
   ]
  },
  {
   "cell_type": "code",
   "execution_count": 133,
   "metadata": {},
   "outputs": [
    {
     "name": "stdout",
     "output_type": "stream",
     "text": [
      "(7600, 65) (7600, 65) (399, 65) (399, 65)\n"
     ]
    }
   ],
   "source": [
    "print(x_train.shape,y_train.shape,x_valid.shape,y_valid.shape)"
   ]
  },
  {
   "cell_type": "markdown",
   "metadata": {},
   "source": [
    "# 2 Alterando a arquitetura"
   ]
  },
  {
   "cell_type": "code",
   "execution_count": 134,
   "metadata": {},
   "outputs": [],
   "source": [
    "def create_model(vocab_size, embedding_dim, rnn_units):\n",
    "    # definindo a arquitetura do modelo    \n",
    "    model = keras.models.Sequential([\n",
    "        keras.layers.Embedding(vocab_size, embedding_dim), \n",
    "        keras.layers.SpatialDropout1D(0.3),\n",
    "        keras.layers.LSTM(rnn_units, recurrent_initializer='glorot_uniform',dropout=0.3, recurrent_activation='sigmoid', return_sequences=True),\n",
    "        keras.layers.LSTM(rnn_units, recurrent_initializer='glorot_uniform',dropout=0.3, recurrent_activation='sigmoid', return_sequences=True),\n",
    "        keras.layers.Dense(units=vocab_size,activation='softmax'),\n",
    "        keras.layers.Dropout(0.3)\n",
    "#         keras.layers.LSTM(rnn_units, recurrent_initializer='glorot_uniform', recurrent_activation='sigmoid', return_sequences=True),\n",
    "#         keras.layers.Dense(units=vocab_size,activation='softmax'),\n",
    "#         keras.layers.Dropout(0.5)\n",
    "    ])\n",
    "\n",
    "    return model"
   ]
  },
  {
   "cell_type": "code",
   "execution_count": 135,
   "metadata": {},
   "outputs": [],
   "source": [
    "def train_model(model, x_train, y_train, x_valid, y_valid):\n",
    "        \n",
    "    # Compilando e treinando o modelo\n",
    "    model.compile(loss=tf.keras.losses.sparse_categorical_crossentropy,\n",
    "              optimizer=tf.keras.optimizers.Adam(learning_rate=5e-3),metrics=['accuracy']\n",
    "    )\n",
    "    \n",
    "    checkpoint_filepath = './lstm_best_model_v2'\n",
    "    model_checkpoint_callback = tf.keras.callbacks.ModelCheckpoint(\n",
    "        filepath=checkpoint_filepath,\n",
    "        save_weights_only=True,\n",
    "        monitor='val_loss',\n",
    "        mode='min',\n",
    "        save_best_only=True)\n",
    "    \n",
    "    history = model.fit(x_train, y_train, epochs=25, validation_data=(x_valid, y_valid), callbacks=[model_checkpoint_callback])\n",
    "    \n",
    "    return model, history"
   ]
  },
  {
   "cell_type": "code",
   "execution_count": 136,
   "metadata": {},
   "outputs": [
    {
     "name": "stdout",
     "output_type": "stream",
     "text": [
      "Epoch 1/25\n",
      "238/238 [==============================] - 347s 1s/step - loss: 7.2583 - accuracy: 0.0552 - val_loss: 3.0953 - val_accuracy: 0.1036\n",
      "Epoch 2/25\n",
      "238/238 [==============================] - 344s 1s/step - loss: 6.8936 - accuracy: 0.0977 - val_loss: 2.3194 - val_accuracy: 0.3222\n",
      "Epoch 3/25\n",
      "238/238 [==============================] - 345s 1s/step - loss: 6.3782 - accuracy: 0.1592 - val_loss: 1.9217 - val_accuracy: 0.3961\n",
      "Epoch 4/25\n",
      "238/238 [==============================] - 343s 1s/step - loss: 6.1961 - accuracy: 0.1843 - val_loss: 1.7324 - val_accuracy: 0.4444\n",
      "Epoch 5/25\n",
      "238/238 [==============================] - 342s 1s/step - loss: 6.1370 - accuracy: 0.1974 - val_loss: 1.6387 - val_accuracy: 0.4758\n",
      "Epoch 6/25\n",
      "238/238 [==============================] - 340s 1s/step - loss: 6.1044 - accuracy: 0.2047 - val_loss: 1.6130 - val_accuracy: 0.4918\n",
      "Epoch 7/25\n",
      "238/238 [==============================] - 341s 1s/step - loss: 6.0650 - accuracy: 0.2127 - val_loss: 1.5743 - val_accuracy: 0.5158\n",
      "Epoch 8/25\n",
      "238/238 [==============================] - 341s 1s/step - loss: 6.0383 - accuracy: 0.2184 - val_loss: 1.6168 - val_accuracy: 0.5227\n",
      "Epoch 9/25\n",
      "238/238 [==============================] - 341s 1s/step - loss: 5.9805 - accuracy: 0.2256 - val_loss: 1.5748 - val_accuracy: 0.5473\n",
      "Epoch 10/25\n",
      "238/238 [==============================] - 521s 2s/step - loss: 5.9354 - accuracy: 0.2302 - val_loss: 1.5700 - val_accuracy: 0.5601\n",
      "Epoch 11/25\n",
      "238/238 [==============================] - 574s 2s/step - loss: 5.9209 - accuracy: 0.2345 - val_loss: 1.6493 - val_accuracy: 0.5683\n",
      "Epoch 12/25\n",
      "238/238 [==============================] - 574s 2s/step - loss: 5.8765 - accuracy: 0.2388 - val_loss: 1.6201 - val_accuracy: 0.5805\n",
      "Epoch 13/25\n",
      "238/238 [==============================] - 400s 2s/step - loss: 5.8423 - accuracy: 0.2416 - val_loss: 1.6501 - val_accuracy: 0.5870\n",
      "Epoch 14/25\n",
      "238/238 [==============================] - 345s 1s/step - loss: 5.8310 - accuracy: 0.2440 - val_loss: 1.6367 - val_accuracy: 0.5912\n",
      "Epoch 15/25\n",
      "238/238 [==============================] - 344s 1s/step - loss: 5.7937 - accuracy: 0.2466 - val_loss: 1.6432 - val_accuracy: 0.5993\n",
      "Epoch 16/25\n",
      "238/238 [==============================] - 347s 1s/step - loss: 5.8027 - accuracy: 0.2480 - val_loss: 1.6290 - val_accuracy: 0.6061\n",
      "Epoch 17/25\n",
      "238/238 [==============================] - 349s 1s/step - loss: 5.7946 - accuracy: 0.2484 - val_loss: 1.6651 - val_accuracy: 0.6111\n",
      "Epoch 18/25\n",
      "238/238 [==============================] - 346s 1s/step - loss: 5.7541 - accuracy: 0.2519 - val_loss: 1.7233 - val_accuracy: 0.6124\n",
      "Epoch 19/25\n",
      "238/238 [==============================] - 346s 1s/step - loss: 5.7487 - accuracy: 0.2545 - val_loss: 1.6898 - val_accuracy: 0.6165\n",
      "Epoch 20/25\n",
      "238/238 [==============================] - 345s 1s/step - loss: 5.7256 - accuracy: 0.2549 - val_loss: 1.7128 - val_accuracy: 0.6186\n",
      "Epoch 21/25\n",
      "238/238 [==============================] - 345s 1s/step - loss: 5.7147 - accuracy: 0.2562 - val_loss: 1.7482 - val_accuracy: 0.6230\n",
      "Epoch 22/25\n",
      "238/238 [==============================] - 347s 1s/step - loss: 5.7080 - accuracy: 0.2587 - val_loss: 1.7199 - val_accuracy: 0.6266\n",
      "Epoch 23/25\n",
      "238/238 [==============================] - 347s 1s/step - loss: 5.6823 - accuracy: 0.2603 - val_loss: 1.7487 - val_accuracy: 0.6304\n",
      "Epoch 24/25\n",
      "238/238 [==============================] - 346s 1s/step - loss: 5.6873 - accuracy: 0.2613 - val_loss: 1.7497 - val_accuracy: 0.6327\n",
      "Epoch 25/25\n",
      "238/238 [==============================] - 346s 1s/step - loss: 5.6737 - accuracy: 0.2625 - val_loss: 1.7562 - val_accuracy: 0.6366\n"
     ]
    },
    {
     "data": {
      "image/png": "[encoded data removed]",
      "text/plain": [
       "<Figure size 432x288 with 1 Axes>"
      ]
     },
     "metadata": {
      "image/png": {
       "height": 260,
       "width": 366
      },
      "needs_background": "light"
     },
     "output_type": "display_data"
    }
   ],
   "source": [
    "vocab_size = len(vocab)\n",
    "embedding_dim = 256 \n",
    "rnn_units = 1400 \n",
    "\n",
    "model = create_model(vocab_size, embedding_dim, rnn_units)\n",
    "model, history = train_model(model, x_train,y_train,x_valid,y_valid)\n",
    "\n",
    "# plotando as curvas de aprendizado\n",
    "plt.plot(history.history['loss'], label='train')\n",
    "plt.plot(history.history['val_loss'], label='val')\n",
    "plt.title('Predicting time series', pad=-80)\n",
    "plt.legend()\n",
    "plt.show()"
   ]
  },
  {
   "cell_type": "code",
   "execution_count": 137,
   "metadata": {},
   "outputs": [],
   "source": [
    "header = \"X:1\\nT:Alexander's\\nZ: id:dc-hornpipe-1\\nM:C|\\nL:1/8\\nK:D Major\\n\"\n",
    "start_string = 'BA|GABc'\n",
    "def generate_text(model, start_string, generation_length=170):\n",
    "    input_eval = [char2idx[s] for s in start_string]\n",
    "    input_eval = tf.expand_dims(input_eval, 0)\n",
    "    text_generated = []\n",
    "\n",
    "    for i in range(generation_length):\n",
    "        predictions = model(input_eval)\n",
    "        sampled_indices = tf.random.categorical(predictions[0], num_samples=1)[-1,0].numpy()\n",
    "            \n",
    "        #Passa a previsão junto com o estado anterior como as próximas entradas do modelo\n",
    "        input_eval = tf.expand_dims([sampled_indices], 0)\n",
    "        text_generated.append(idx2char[sampled_indices])\n",
    "        \n",
    "    return (header+start_string + ''.join(text_generated))"
   ]
  },
  {
   "cell_type": "code",
   "execution_count": 138,
   "metadata": {},
   "outputs": [],
   "source": [
    "generated_text = generate_text(model, start_string=start_string, generation_length=170)"
   ]
  },
  {
   "cell_type": "code",
   "execution_count": 139,
   "metadata": {},
   "outputs": [
    {
     "name": "stdout",
     "output_type": "stream",
     "text": [
      "X:1\n",
      "T:Alexander's\n",
      "Z: id:dc-hornpipe-1\n",
      "M:C|\n",
      "L:1/8\n",
      "K:D Major\n",
      "BA|GABc ,/r|cetxe2'm_'GpBf()y o3mV^V^!s\"orApsDca3\"-1y -6px!Bp1B'As6B\"V/4-'\n",
      "lexa4j\"__p>e_z!oAyu^9)\"p!dr8C\">Mi4DzA^K- FiGt_1Gt|'(cbx8V,,/G\n",
      "mieiDBM\n",
      "uo4 ]f8m!gr,3o)e>\n",
      "g/aaF6xd\"|a==\"\n"
     ]
    }
   ],
   "source": [
    "print(generated_text)"
   ]
  },
  {
   "cell_type": "code",
   "execution_count": null,
   "metadata": {},
   "outputs": [],
   "source": []
  }
 ],
 "metadata": {
  "kernelspec": {
   "display_name": "Python 3 (ipykernel)",
   "language": "python",
   "name": "python3"
  },
  "language_info": {
   "codemirror_mode": {
    "name": "ipython",
    "version": 3
   },
   "file_extension": ".py",
   "mimetype": "text/x-python",
   "name": "python",
   "nbconvert_exporter": "python",
   "pygments_lexer": "ipython3",
   "version": "3.7.13"
  }
 },
 "nbformat": 4,
 "nbformat_minor": 4
}
