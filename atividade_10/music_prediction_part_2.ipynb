{
 "cells": [
  {
   "cell_type": "code",
   "execution_count": 15,
   "id": "3b1448ca",
   "metadata": {},
   "outputs": [],
   "source": [
    "import mitdeeplearning.lab1 as mit\n",
    "import os\n",
    "from IPython import display as ipythondisplay\n",
    "import numpy as np\n",
    "from tensorflow import keras\n",
    "import tensorflow as tf \n",
    "from keras.models import Sequential\n",
    "from keras.layers import Dense, LSTM\n",
    "import matplotlib.pyplot as plt\n",
    "import regex as re\n",
    "import music21\n",
    "import pickle\n",
    "from random import randrange\n",
    "from tqdm.notebook import tqdm_notebook"
   ]
  },
  {
   "cell_type": "code",
   "execution_count": 6,
   "id": "159e39a5",
   "metadata": {},
   "outputs": [],
   "source": [
    "path= 'nottingham-dataset/ABC_original/'"
   ]
  },
  {
   "cell_type": "code",
   "execution_count": 7,
   "id": "adf38ab2",
   "metadata": {},
   "outputs": [
    {
     "data": {
      "text/plain": [
       "['morris.abc',\n",
       " 'slip.abc',\n",
       " 'playford.abc',\n",
       " 'reelsa-c.abc',\n",
       " 'ashover.abc',\n",
       " 'reelsm-q.abc',\n",
       " 'waltzes.abc',\n",
       " 'xmas.abc',\n",
       " 'reelsu-z.abc',\n",
       " 'jigs.abc',\n",
       " 'reelsh-l.abc',\n",
       " 'reelsr-t.abc',\n",
       " 'hpps.abc',\n",
       " 'reelsd-g.abc']"
      ]
     },
     "execution_count": 7,
     "metadata": {},
     "output_type": "execute_result"
    }
   ],
   "source": [
    "files = os.listdir(path)\n",
    "files"
   ]
  },
  {
   "cell_type": "code",
   "execution_count": 8,
   "id": "9915bef1",
   "metadata": {},
   "outputs": [],
   "source": [
    "def gerarDataset(path, files):\n",
    "    songs = []\n",
    "    \n",
    "    for f in tqdm_notebook(files):\n",
    "        with open(path+f,'r') as abc:\n",
    "            cont = abc.read()\n",
    "            musics = cont.split('\\n\\n')\n",
    "        for m in tqdm_notebook(musics):\n",
    "            songs.append(m)\n",
    "    \n",
    "    return songs"
   ]
  },
  {
   "cell_type": "code",
   "execution_count": 9,
   "id": "479c85d4",
   "metadata": {},
   "outputs": [
    {
     "data": {
      "application/vnd.jupyter.widget-view+json": {
       "model_id": "763ce5c221d241c9bd4795d71e316f69",
       "version_major": 2,
       "version_minor": 0
      },
      "text/plain": [
       "  0%|          | 0/14 [00:00<?, ?it/s]"
      ]
     },
     "metadata": {},
     "output_type": "display_data"
    },
    {
     "data": {
      "application/vnd.jupyter.widget-view+json": {
       "model_id": "d10eaa7eec4d42e5b98458e29fe2fd74",
       "version_major": 2,
       "version_minor": 0
      },
      "text/plain": [
       "  0%|          | 0/33 [00:00<?, ?it/s]"
      ]
     },
     "metadata": {},
     "output_type": "display_data"
    },
    {
     "data": {
      "application/vnd.jupyter.widget-view+json": {
       "model_id": "aeae7610be4a42e6a225f535178a0ee1",
       "version_major": 2,
       "version_minor": 0
      },
      "text/plain": [
       "  0%|          | 0/12 [00:00<?, ?it/s]"
      ]
     },
     "metadata": {},
     "output_type": "display_data"
    },
    {
     "data": {
      "application/vnd.jupyter.widget-view+json": {
       "model_id": "a00b0d3191cd4c3cb4a50ed022463fe3",
       "version_major": 2,
       "version_minor": 0
      },
      "text/plain": [
       "  0%|          | 0/16 [00:00<?, ?it/s]"
      ]
     },
     "metadata": {},
     "output_type": "display_data"
    },
    {
     "data": {
      "application/vnd.jupyter.widget-view+json": {
       "model_id": "4754180b8aa64f6fa5b0fb6c14a23bf5",
       "version_major": 2,
       "version_minor": 0
      },
      "text/plain": [
       "  0%|          | 0/82 [00:00<?, ?it/s]"
      ]
     },
     "metadata": {},
     "output_type": "display_data"
    },
    {
     "data": {
      "application/vnd.jupyter.widget-view+json": {
       "model_id": "32b6b37ed0e341fe950409cdc3c03d8d",
       "version_major": 2,
       "version_minor": 0
      },
      "text/plain": [
       "  0%|          | 0/49 [00:00<?, ?it/s]"
      ]
     },
     "metadata": {},
     "output_type": "display_data"
    },
    {
     "data": {
      "application/vnd.jupyter.widget-view+json": {
       "model_id": "596aeee955dc4cea9af488cfc510f7bd",
       "version_major": 2,
       "version_minor": 0
      },
      "text/plain": [
       "  0%|          | 0/82 [00:00<?, ?it/s]"
      ]
     },
     "metadata": {},
     "output_type": "display_data"
    },
    {
     "data": {
      "application/vnd.jupyter.widget-view+json": {
       "model_id": "b472b84e0a324ddcb313257f33e2af13",
       "version_major": 2,
       "version_minor": 0
      },
      "text/plain": [
       "  0%|          | 0/54 [00:00<?, ?it/s]"
      ]
     },
     "metadata": {},
     "output_type": "display_data"
    },
    {
     "data": {
      "application/vnd.jupyter.widget-view+json": {
       "model_id": "ce5fb6cd9c1448cf9746be1c9e859eed",
       "version_major": 2,
       "version_minor": 0
      },
      "text/plain": [
       "  0%|          | 0/15 [00:00<?, ?it/s]"
      ]
     },
     "metadata": {},
     "output_type": "display_data"
    },
    {
     "data": {
      "application/vnd.jupyter.widget-view+json": {
       "model_id": "25af143d4346470181fec96153ba49fa",
       "version_major": 2,
       "version_minor": 0
      },
      "text/plain": [
       "  0%|          | 0/35 [00:00<?, ?it/s]"
      ]
     },
     "metadata": {},
     "output_type": "display_data"
    },
    {
     "data": {
      "application/vnd.jupyter.widget-view+json": {
       "model_id": "ac43dbe105094222b5f6da512e9c5b82",
       "version_major": 2,
       "version_minor": 0
      },
      "text/plain": [
       "  0%|          | 0/348 [00:00<?, ?it/s]"
      ]
     },
     "metadata": {},
     "output_type": "display_data"
    },
    {
     "data": {
      "application/vnd.jupyter.widget-view+json": {
       "model_id": "f08bf4c64e754c0ab2d5627145a8482c",
       "version_major": 2,
       "version_minor": 0
      },
      "text/plain": [
       "  0%|          | 0/94 [00:00<?, ?it/s]"
      ]
     },
     "metadata": {},
     "output_type": "display_data"
    },
    {
     "data": {
      "application/vnd.jupyter.widget-view+json": {
       "model_id": "87e09ed4b87c42c3ba0725ee69d70b74",
       "version_major": 2,
       "version_minor": 0
      },
      "text/plain": [
       "  0%|          | 0/93 [00:00<?, ?it/s]"
      ]
     },
     "metadata": {},
     "output_type": "display_data"
    },
    {
     "data": {
      "application/vnd.jupyter.widget-view+json": {
       "model_id": "750e998df90a4920814de6eaa4a21f5e",
       "version_major": 2,
       "version_minor": 0
      },
      "text/plain": [
       "  0%|          | 0/67 [00:00<?, ?it/s]"
      ]
     },
     "metadata": {},
     "output_type": "display_data"
    },
    {
     "data": {
      "application/vnd.jupyter.widget-view+json": {
       "model_id": "26eec799571446ad99428f1a103c3028",
       "version_major": 2,
       "version_minor": 0
      },
      "text/plain": [
       "  0%|          | 0/85 [00:00<?, ?it/s]"
      ]
     },
     "metadata": {},
     "output_type": "display_data"
    }
   ],
   "source": [
    "songs = gerarDataset(path, files)"
   ]
  },
  {
   "cell_type": "code",
   "execution_count": 10,
   "id": "c3474280",
   "metadata": {},
   "outputs": [
    {
     "name": "stdout",
     "output_type": "stream",
     "text": [
      "\n",
      "X: 10\n",
      "T:Bonny Green Garters\n",
      "% Nottingham Music Database\n",
      "P:BAAABCBC\n",
      "S:Traditional Morris Farewell\n",
      "M:6/8\n",
      "K:D\n",
      "P:A\n",
      "A|\"D\"dcd AFA|\"G\"BcB \"A7\"A2(3A/2B/2c/2|\"D\"dcd \"A/c+\"efg|\"Bm\"fdf \"A7\"ecA|\n",
      "\"D\"dcd AFA|\"G\"BcB \"A7\"A2(3A/2B/2c/2|\"D\"dcd \"A7\"efg|\"D\"f3 d2:|\n",
      "K:G\n",
      "P:B\n",
      "d|\"G\"dcB \"D7/a\"AGF|\"G/b\"GAB \"C\"cde|\"G\"ded dcB|\"A7\"B3 \"D7\"A2d|\n",
      "\"G\"dcB \"D7/a\"AGF|\"G/b\"GAB \"C\"cde|\"G\"ded dcB|\"D7\"A3 \"G\"G2:|\n",
      "P:C\n",
      "d|\"G\"dcB \"D/f+\"AGF|\"Em\"G3 \"D7\"A3|\"G\"dcB \"D/f+\"AGF|\"Em\"G3 \"D7\"A3|\n",
      "\"G\"dcB \"D7/a\"AGF|\"G/b\"GAB \"C\"cde|\"G\"ded dcB|\"D7\"A3 \"G\"G2:|\n"
     ]
    }
   ],
   "source": [
    "print(songs[10])"
   ]
  },
  {
   "cell_type": "code",
   "execution_count": 16,
   "id": "044bfcd9",
   "metadata": {},
   "outputs": [],
   "source": [
    "def read_audio(audio, name):\n",
    "    mit.save_song_to_abc(audio, name)\n",
    "    \n",
    "    abc = music21.converter.parse(name+'.abc')\n",
    "    \n",
    "    abc.write('midi', fp=name+'.midi')\n",
    "    \n",
    "    midi = music21.converter.parse(name+'.midi')\n",
    "    \n",
    "    midi.show('midi')"
   ]
  },
  {
   "cell_type": "code",
   "execution_count": 18,
   "id": "5f62c40f",
   "metadata": {},
   "outputs": [
    {
     "data": {
      "text/html": [
       "\n",
       "                <div id='midiPlayerDiv161420'></div>\n",
       "                <link rel=\"stylesheet\" href=\"//cuthbertLab.github.io/music21j/css/m21.css\"\n",
       "                    type=\"text/css\" />\n",
       "                \n",
       "                <script>\n",
       "                require.config({\n",
       "                    paths: {'music21': '//cuthbertLab.github.io/music21j/src/music21'}\n",
       "                });\n",
       "                require(['music21'], function() {\n",
       "                               mp = new music21.miditools.MidiPlayer();\n",
       "                               mp.addPlayer('#midiPlayerDiv161420');\n",
       "                               mp.base64Load('data:audio/midi;base64,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');\n",
       "                        });\n",
       "                </script>"
      ],
      "text/plain": [
       "<IPython.core.display.HTML object>"
      ]
     },
     "metadata": {},
     "output_type": "display_data"
    }
   ],
   "source": [
    "read_audio(songs[13],'song_10')"
   ]
  },
  {
   "cell_type": "code",
   "execution_count": 62,
   "id": "e5fe0e39",
   "metadata": {},
   "outputs": [],
   "source": [
    "def removerHeader(song):\n",
    "    abc = song.split('\\n')\n",
    "    \n",
    "    abc2 = abc[9:] #remover as 6 linhas do header\n",
    "    \n",
    "    abc3 = '\\n'.join(abc2)\n",
    "    \n",
    "    return abc3"
   ]
  },
  {
   "cell_type": "code",
   "execution_count": 65,
   "id": "65362c78",
   "metadata": {},
   "outputs": [
    {
     "name": "stdout",
     "output_type": "stream",
     "text": [
      "P:A\n",
      "e/2d/2|\"Am\"cB/2c/2 Ae/2^f/2|\"Am\"e/2d/2c/2B/2 A/2c/2e|\"D\"^fd df/2g/2|\\\n",
      "\"Am\"e/2d/2c/2B/2 cB/2A/2|\n",
      "\"G\"Bg BG|\"Am\"A/2B/2A/2G/2 Ee/2d/2|\"Am\"c/2B/2A/2c/2 \"Em\"B/2A/2G/2B/2|\"Am\"A2 A:|\n",
      "P:B\n",
      "\"Am\"ea a/2g/2a/2b/2|\"Am\"a/2g/2e/2^f/2 \"G\"gd|\"Am\"e/2g/2^f/2a/2 g/2f/2e|\\\n",
      "\"G\"d/2c/2B/2A/2 GA/2B/2|\n",
      "\"Am\"cc \"D\"dd|e/2^f/2g/2e/2 a/2b/2a/2g/2|\"D\"^fA fg/2f/2|\"Am\"eA \"D\"de/2d/2|\n",
      "\"Am\"cB/2c/2 \"Em\"A/2B/2c/2d/2|\"Am\"eA Ae/2d/2|\"Am\"c/2B/2A/2c/2 \"Em\"B/2A/2G/2B/2|\\\n",
      "\"Am\"A2 A||\n"
     ]
    }
   ],
   "source": [
    "s = removerHeader(songs[22])\n",
    "print(s)"
   ]
  },
  {
   "cell_type": "code",
   "execution_count": 66,
   "id": "b2375aa3",
   "metadata": {},
   "outputs": [],
   "source": [
    "def run(musics,array):  \n",
    "    for music  in tqdm_notebook(musics):\n",
    "        newMusic = removerHeader(music)\n",
    "        array.append(newMusic)"
   ]
  },
  {
   "cell_type": "code",
   "execution_count": 67,
   "id": "fd81db0e",
   "metadata": {},
   "outputs": [],
   "source": [
    "songs_processed = []"
   ]
  },
  {
   "cell_type": "code",
   "execution_count": 68,
   "id": "b1f9e92e",
   "metadata": {},
   "outputs": [
    {
     "data": {
      "application/vnd.jupyter.widget-view+json": {
       "model_id": "f294adb5fe934fdcab240b9798b42563",
       "version_major": 2,
       "version_minor": 0
      },
      "text/plain": [
       "  0%|          | 0/1065 [00:00<?, ?it/s]"
      ]
     },
     "metadata": {},
     "output_type": "display_data"
    }
   ],
   "source": [
    "run(songs, songs_processed)"
   ]
  },
  {
   "cell_type": "code",
   "execution_count": 69,
   "id": "9385a68c",
   "metadata": {},
   "outputs": [],
   "source": [
    "songs_joined = \"\\n\\n\".join(songs_processed) \n",
    "def build_vocab(songs):\n",
    "    vocab = sorted(set(songs_joined))\n",
    "    return vocab"
   ]
  },
  {
   "cell_type": "code",
   "execution_count": 70,
   "id": "305d6b75",
   "metadata": {},
   "outputs": [
    {
     "name": "stdout",
     "output_type": "stream",
     "text": [
      "300618\n"
     ]
    }
   ],
   "source": [
    "print(len(songs_joined))"
   ]
  },
  {
   "cell_type": "code",
   "execution_count": 71,
   "id": "5ecdd99d",
   "metadata": {},
   "outputs": [],
   "source": [
    "vocab = build_vocab(songs_processed)"
   ]
  },
  {
   "cell_type": "code",
   "execution_count": 72,
   "id": "3d98e9e5",
   "metadata": {},
   "outputs": [
    {
     "name": "stdout",
     "output_type": "stream",
     "text": [
      "['\\n', ' ', '!', '\"', '#', '%', \"'\", '(', ')', '*', '+', ',', '-', '.', '/', '0', '1', '2', '3', '4', '5', '6', '7', '8', '9', ':', '<', '=', '>', '@', 'A', 'B', 'C', 'D', 'E', 'F', 'G', 'H', 'I', 'K', 'L', 'M', 'O', 'P', 'Q', 'S', 'T', 'U', 'V', '[', '\\\\', ']', '^', '_', 'a', 'b', 'c', 'd', 'e', 'f', 'g', 'h', 'i', 'l', 'm', 'n', 'o', 'p', 'r', 's', 't', 'u', 'v', 'w', 'x', 'y', 'z', '{', '|', '}', '~']\n"
     ]
    }
   ],
   "source": [
    "print(vocab)"
   ]
  },
  {
   "cell_type": "code",
   "execution_count": 73,
   "id": "bb1317d6",
   "metadata": {},
   "outputs": [],
   "source": [
    "def build_dictionary(vocab):\n",
    "    idx2char = []\n",
    "    for c in vocab :\n",
    "        if c not in idx2char : idx2char.append(c)\n",
    "    char2idx = {w: i for i, w in enumerate(idx2char)} \n",
    "    return idx2char, char2idx"
   ]
  },
  {
   "cell_type": "code",
   "execution_count": 74,
   "id": "3a02e5d1",
   "metadata": {},
   "outputs": [],
   "source": [
    "idx2char, char2idx = build_dictionary(vocab)"
   ]
  },
  {
   "cell_type": "code",
   "execution_count": 75,
   "id": "c12da8b0",
   "metadata": {},
   "outputs": [],
   "source": [
    "pickle.dump(idx2char, open('idx2char2.pickle','wb'))\n",
    "pickle.dump(char2idx, open('char2idx2.pickle','wb'))"
   ]
  },
  {
   "cell_type": "code",
   "execution_count": 76,
   "id": "8da4977e",
   "metadata": {},
   "outputs": [],
   "source": [
    "def vectorize_string(songs_joined):\n",
    "    vectorized = [char2idx[c] for c in songs_joined] \n",
    "    vectorized = np.array(vectorized, dtype='i')     \n",
    "    return vectorized"
   ]
  },
  {
   "cell_type": "code",
   "execution_count": 77,
   "id": "d9a43e75",
   "metadata": {},
   "outputs": [],
   "source": [
    "vectorized_songs = vectorize_string(songs_joined)"
   ]
  },
  {
   "cell_type": "code",
   "execution_count": 78,
   "id": "35e1121d",
   "metadata": {},
   "outputs": [],
   "source": [
    "def get_batch(vectorized_songs, seq_length, batch_size):\n",
    "    \n",
    "    # captura o tamanho do dataset vetorizado: 200679\n",
    "    n = vectorized_songs.shape[0] - 1\n",
    "\n",
    "    # escolhe aleatoriamente os índices iniciais da sentenças\n",
    "    idx = np.random.choice(n-seq_length, batch_size)\n",
    "\n",
    "    input_batch = [[vectorized_songs[i:i+seq_length] for i in idx]]\n",
    "    output_batch = [[vectorized_songs[i+1: i+1+seq_length] for i in idx]]\n",
    "\n",
    "    x_batch = np.reshape(input_batch, [batch_size, seq_length])\n",
    "    y_batch = np.reshape(output_batch, [batch_size, seq_length])\n",
    "        \n",
    "    return x_batch, y_batch"
   ]
  },
  {
   "cell_type": "code",
   "execution_count": 79,
   "id": "dce8dba0",
   "metadata": {},
   "outputs": [],
   "source": [
    "batch_size = 4000  \n",
    "seq_length = 65  \n",
    "\n",
    "x_batch, y_batch = get_batch(vectorized_songs, seq_length=seq_length, batch_size=batch_size)\n",
    "x_train, y_train = x_batch[:3600], y_batch[:3600]\n",
    "x_valid, y_valid = x_batch[3600:-1], y_batch[3600:-1]"
   ]
  },
  {
   "cell_type": "code",
   "execution_count": 80,
   "id": "cc51f3dc",
   "metadata": {},
   "outputs": [
    {
     "name": "stdout",
     "output_type": "stream",
     "text": [
      "(3600, 65) (3600, 65) (399, 65) (399, 65)\n"
     ]
    }
   ],
   "source": [
    "print(x_train.shape,y_train.shape,x_valid.shape,y_valid.shape)"
   ]
  },
  {
   "cell_type": "code",
   "execution_count": 84,
   "id": "32bdd627",
   "metadata": {},
   "outputs": [],
   "source": [
    "def create_model(vocab_size, embedding_dim, rnn_units):\n",
    "    # definindo a arquitetura do modelo    \n",
    "    model = keras.models.Sequential([\n",
    "        keras.layers.Embedding(vocab_size, embedding_dim), \n",
    "        keras.layers.LSTM(rnn_units, recurrent_initializer='glorot_uniform', recurrent_activation='sigmoid', return_sequences=True),\n",
    "        keras.layers.Dense(units=vocab_size,activation='softmax'),\n",
    "        keras.layers.Dropout(0.3)\n",
    "    ])\n",
    "\n",
    "    return model"
   ]
  },
  {
   "cell_type": "code",
   "execution_count": 85,
   "id": "8453178a",
   "metadata": {},
   "outputs": [],
   "source": [
    "def train_model(model, x_train, y_train, x_valid, y_valid):\n",
    "        \n",
    "    # Compilando e treinando o modelo\n",
    "    model.compile(loss=tf.keras.losses.sparse_categorical_crossentropy,\n",
    "              optimizer=tf.keras.optimizers.Adam(learning_rate=5e-3),metrics=['accuracy']\n",
    "    )\n",
    "    \n",
    "    checkpoint_filepath = './lstm_best_model_v3'\n",
    "    model_checkpoint_callback = tf.keras.callbacks.ModelCheckpoint(\n",
    "        filepath=checkpoint_filepath,\n",
    "        save_weights_only=True,\n",
    "        monitor='val_loss',\n",
    "        mode='min',\n",
    "        save_best_only=True)\n",
    "    \n",
    "    history = model.fit(x_train, y_train, epochs=25, validation_data=(x_valid, y_valid), callbacks=[model_checkpoint_callback])\n",
    "    \n",
    "    return model, history"
   ]
  },
  {
   "cell_type": "code",
   "execution_count": 87,
   "id": "08a51a23",
   "metadata": {},
   "outputs": [],
   "source": [
    "vocab_size = len(vocab)\n",
    "embedding_dim = 256 \n",
    "rnn_units = 1400 \n",
    "model = create_model(vocab_size, embedding_dim, rnn_units)"
   ]
  },
  {
   "cell_type": "code",
   "execution_count": 90,
   "id": "f6f61906",
   "metadata": {},
   "outputs": [
    {
     "data": {
      "text/plain": [
       "81"
      ]
     },
     "execution_count": 90,
     "metadata": {},
     "output_type": "execute_result"
    }
   ],
   "source": [
    "vocab_size"
   ]
  },
  {
   "cell_type": "code",
   "execution_count": 89,
   "id": "adcd825a",
   "metadata": {},
   "outputs": [
    {
     "name": "stdout",
     "output_type": "stream",
     "text": [
      "Epoch 1/25\n",
      "113/113 [==============================] - 126s 1s/step - loss: 3.6222 - accuracy: 0.5316 - val_loss: 1.6496 - val_accuracy: 0.6852\n",
      "Epoch 2/25\n",
      "113/113 [==============================] - 120s 1s/step - loss: 3.5433 - accuracy: 0.5398 - val_loss: 1.7089 - val_accuracy: 0.6862\n",
      "Epoch 3/25\n",
      "113/113 [==============================] - 121s 1s/step - loss: 3.5150 - accuracy: 0.5429 - val_loss: 1.7824 - val_accuracy: 0.6903\n",
      "Epoch 4/25\n",
      "113/113 [==============================] - 121s 1s/step - loss: 3.4441 - accuracy: 0.5487 - val_loss: 1.7882 - val_accuracy: 0.6921\n",
      "Epoch 5/25\n",
      "113/113 [==============================] - 121s 1s/step - loss: 3.3853 - accuracy: 0.5538 - val_loss: 1.8224 - val_accuracy: 0.6953\n",
      "Epoch 6/25\n",
      "113/113 [==============================] - 121s 1s/step - loss: 3.3546 - accuracy: 0.5570 - val_loss: 1.8553 - val_accuracy: 0.6971\n",
      "Epoch 7/25\n",
      "113/113 [==============================] - 120s 1s/step - loss: 3.2933 - accuracy: 0.5619 - val_loss: 1.8614 - val_accuracy: 0.6999\n",
      "Epoch 8/25\n",
      "113/113 [==============================] - 121s 1s/step - loss: 3.2538 - accuracy: 0.5664 - val_loss: 1.9275 - val_accuracy: 0.6947\n",
      "Epoch 9/25\n",
      "113/113 [==============================] - 121s 1s/step - loss: 3.2415 - accuracy: 0.5668 - val_loss: 1.9733 - val_accuracy: 0.7018\n",
      "Epoch 10/25\n",
      "113/113 [==============================] - 121s 1s/step - loss: 3.1995 - accuracy: 0.5716 - val_loss: 1.9546 - val_accuracy: 0.7071\n",
      "Epoch 11/25\n",
      "113/113 [==============================] - 121s 1s/step - loss: 3.1783 - accuracy: 0.5721 - val_loss: 1.9811 - val_accuracy: 0.7036\n",
      "Epoch 12/25\n",
      "113/113 [==============================] - 121s 1s/step - loss: 3.1420 - accuracy: 0.5753 - val_loss: 2.0339 - val_accuracy: 0.7075\n",
      "Epoch 13/25\n",
      "113/113 [==============================] - 121s 1s/step - loss: 3.0976 - accuracy: 0.5793 - val_loss: 2.0318 - val_accuracy: 0.7091\n",
      "Epoch 14/25\n",
      "113/113 [==============================] - 121s 1s/step - loss: 3.0850 - accuracy: 0.5803 - val_loss: 2.0609 - val_accuracy: 0.7138\n",
      "Epoch 15/25\n",
      "113/113 [==============================] - 120s 1s/step - loss: 3.0653 - accuracy: 0.5814 - val_loss: 2.1007 - val_accuracy: 0.7090\n",
      "Epoch 16/25\n",
      "113/113 [==============================] - 121s 1s/step - loss: 3.0538 - accuracy: 0.5825 - val_loss: 2.1122 - val_accuracy: 0.7113\n",
      "Epoch 17/25\n",
      "113/113 [==============================] - 120s 1s/step - loss: 3.0508 - accuracy: 0.5823 - val_loss: 2.1355 - val_accuracy: 0.7141\n",
      "Epoch 18/25\n",
      "113/113 [==============================] - 120s 1s/step - loss: 3.0103 - accuracy: 0.5846 - val_loss: 2.1442 - val_accuracy: 0.7150\n",
      "Epoch 19/25\n",
      "113/113 [==============================] - 120s 1s/step - loss: 2.9998 - accuracy: 0.5874 - val_loss: 2.1922 - val_accuracy: 0.7093\n",
      "Epoch 20/25\n",
      "113/113 [==============================] - 120s 1s/step - loss: 3.0241 - accuracy: 0.5849 - val_loss: 2.1668 - val_accuracy: 0.7100\n",
      "Epoch 21/25\n",
      "113/113 [==============================] - 121s 1s/step - loss: 3.0511 - accuracy: 0.5834 - val_loss: 2.2090 - val_accuracy: 0.7099\n",
      "Epoch 22/25\n",
      "113/113 [==============================] - 120s 1s/step - loss: 3.0506 - accuracy: 0.5822 - val_loss: 2.2023 - val_accuracy: 0.7089\n",
      "Epoch 23/25\n",
      "113/113 [==============================] - 121s 1s/step - loss: 3.0465 - accuracy: 0.5834 - val_loss: 2.2885 - val_accuracy: 0.7063\n",
      "Epoch 24/25\n",
      "113/113 [==============================] - 120s 1s/step - loss: 3.0547 - accuracy: 0.5820 - val_loss: 2.2621 - val_accuracy: 0.7100\n",
      "Epoch 25/25\n",
      "113/113 [==============================] - 121s 1s/step - loss: 3.0501 - accuracy: 0.5833 - val_loss: 2.3023 - val_accuracy: 0.7057\n"
     ]
    },
    {
     "data": {
      "image/png": "[encoded data removed]",
      "text/plain": [
       "<Figure size 432x288 with 1 Axes>"
      ]
     },
     "metadata": {
      "image/png": {
       "height": 260,
       "width": 382
      },
      "needs_background": "light"
     },
     "output_type": "display_data"
    }
   ],
   "source": [
    "model, history = train_model(model, x_train,y_train,x_valid,y_valid)\n",
    "\n",
    "# plotando as curvas de aprendizado\n",
    "plt.plot(history.history['loss'], label='train')\n",
    "plt.plot(history.history['val_loss'], label='val')\n",
    "plt.title('Predicting time series', pad=-80)\n",
    "plt.legend()\n",
    "plt.show()"
   ]
  },
  {
   "cell_type": "code",
   "execution_count": null,
   "id": "ca3b45c5",
   "metadata": {},
   "outputs": [],
   "source": []
  }
 ],
 "metadata": {
  "kernelspec": {
   "display_name": "Python 3 (ipykernel)",
   "language": "python",
   "name": "python3"
  },
  "language_info": {
   "codemirror_mode": {
    "name": "ipython",
    "version": 3
   },
   "file_extension": ".py",
   "mimetype": "text/x-python",
   "name": "python",
   "nbconvert_exporter": "python",
   "pygments_lexer": "ipython3",
   "version": "3.7.13"
  }
 },
 "nbformat": 4,
 "nbformat_minor": 5
}
